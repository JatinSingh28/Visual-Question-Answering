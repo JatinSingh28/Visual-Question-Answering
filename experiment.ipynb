{
 "cells": [
  {
   "cell_type": "code",
   "execution_count": 1,
   "metadata": {},
   "outputs": [],
   "source": [
    "import json\n",
    "import pandas as pd\n",
    "import numpy as np\n",
    "from PIL import Image\n",
    "import os"
   ]
  },
  {
   "cell_type": "code",
   "execution_count": 2,
   "metadata": {},
   "outputs": [],
   "source": [
    "with open(\"./data/Annotations/train.json\",'r', encoding='utf-8') as file:\n",
    "    data = json.load(file)"
   ]
  },
  {
   "cell_type": "code",
   "execution_count": 3,
   "metadata": {},
   "outputs": [
    {
     "name": "stdout",
     "output_type": "stream",
     "text": [
      "   answerable                          image  \\\n",
      "0           1  VizWiz_train_000000000000.jpg   \n",
      "1           1  VizWiz_train_000000000001.jpg   \n",
      "2           1  VizWiz_train_000000000002.jpg   \n",
      "3           1  VizWiz_train_000000000003.jpg   \n",
      "4           1  VizWiz_train_000000000004.jpg   \n",
      "\n",
      "                                            question answer_type  \\\n",
      "0                   What's the name of this product?       other   \n",
      "1        Can you tell me what is in this can please?       other   \n",
      "2  Is this enchilada sauce or is this tomatoes?  ...       other   \n",
      "3            What is the captcha on this screenshot?       other   \n",
      "4                                 What is this item?       other   \n",
      "\n",
      "                                             answers  \n",
      "0  [{'answer_confidence': 'yes', 'answer': 'basil...  \n",
      "1  [{'answer_confidence': 'yes', 'answer': 'soda'...  \n",
      "2  [{'answer_confidence': 'yes', 'answer': 'these...  \n",
      "3  [{'answer_confidence': 'yes', 'answer': 't36m'...  \n",
      "4  [{'answer_confidence': 'yes', 'answer': 'solar...  \n"
     ]
    }
   ],
   "source": [
    "df = pd.DataFrame(data)\n",
    "print(df.head())"
   ]
  },
  {
   "cell_type": "code",
   "execution_count": null,
   "metadata": {},
   "outputs": [],
   "source": []
  }
 ],
 "metadata": {
  "kernelspec": {
   "display_name": "venv",
   "language": "python",
   "name": "python3"
  },
  "language_info": {
   "codemirror_mode": {
    "name": "ipython",
    "version": 3
   },
   "file_extension": ".py",
   "mimetype": "text/x-python",
   "name": "python",
   "nbconvert_exporter": "python",
   "pygments_lexer": "ipython3",
   "version": "3.11.5"
  }
 },
 "nbformat": 4,
 "nbformat_minor": 2
}
